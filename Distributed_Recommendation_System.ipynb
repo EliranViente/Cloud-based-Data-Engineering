{
  "cells": [
    {
      "cell_type": "markdown",
      "metadata": {
        "id": "rx2VhRP-33fI"
      },
      "source": [
        "# Distributed Recommendation System"
      ]
    },
    {
      "cell_type": "markdown",
      "metadata": {},
      "source": [
        "Attached two text files of the Spotify dataset.\n",
        "The file “artists.txt” includes the artist_id and artist_name for each artist exist in the system.\n",
        "The file “plays.txt” includes user_id, artist_id, play_count with represent the total number of\n",
        "plays for each user to each artist.\n",
        "Use PySpark and answer the following questions:\n",
        "1. (3 points) - How many artists exist in the dataset?\n",
        "2. (3 points) - How many users exist in the dataset?\n",
        "3. (4 points) - What is the minimum and maximum number of plays per artist?\n",
        "4. (5 points) - Build a recommendation system using ALS algorithm and print the model\n",
        "tuning (i.e., the searching of hyperparameters for the model).\n",
        "5. (5 points) - How many iterations ALS required for convergence?\n",
        "6. (5 points) - Perform a prediction (of any data you want) using the system you have built\n",
        "in 4."
      ]
    },
    {
      "cell_type": "code",
      "execution_count": null,
      "metadata": {
        "id": "-trYR-fzqVJd"
      },
      "outputs": [],
      "source": [
        "!apt-get install openjdk-8-jdk-headless -qq"
      ]
    },
    {
      "cell_type": "code",
      "execution_count": null,
      "metadata": {
        "colab": {
          "base_uri": "https://localhost:8080/"
        },
        "id": "9JUhgcSAqhHc",
        "outputId": "bb963e9f-81bd-4250-ca77-cf05416a11ba"
      },
      "outputs": [
        {
          "name": "stdout",
          "output_type": "stream",
          "text": [
            "Requirement already satisfied: pyspark==3.1.2 in /usr/local/lib/python3.10/dist-packages (3.1.2)\n",
            "Requirement already satisfied: py4j==0.10.9 in /usr/local/lib/python3.10/dist-packages (from pyspark==3.1.2) (0.10.9)\n"
          ]
        }
      ],
      "source": [
        "!pip install pyspark==3.1.2"
      ]
    },
    {
      "cell_type": "code",
      "execution_count": null,
      "metadata": {
        "id": "wmKHiMjyQspb"
      },
      "outputs": [],
      "source": [
        "import math\n",
        "import numpy as np\n",
        "import pandas as pd\n",
        "import seaborn as sns\n",
        "import matplotlib.pyplot as plt\n",
        "import os\n",
        "import time\n",
        "import sys\n",
        "\n",
        "from pyspark.sql.types import StringType, ArrayType\n",
        "from pyspark.mllib.recommendation import ALS"
      ]
    },
    {
      "cell_type": "markdown",
      "metadata": {
        "id": "ssuL93zJxR-q"
      },
      "source": [
        "## Read the file artist"
      ]
    },
    {
      "cell_type": "code",
      "execution_count": null,
      "metadata": {
        "colab": {
          "base_uri": "https://localhost:8080/"
        },
        "id": "LkYUvvyIw4BL",
        "outputId": "e32dc516-7585-4318-e125-a812874e20ad"
      },
      "outputs": [
        {
          "name": "stdout",
          "output_type": "stream",
          "text": [
            "+---------+----------------------------------+\n",
            "|artist_id|artist_name                       |\n",
            "+---------+----------------------------------+\n",
            "|1240105  |André Visior                      |\n",
            "|1240113  |riow arai                         |\n",
            "|1240132  |Outkast & Rage Against the Machine|\n",
            "|6776115  |小松正夫                          |\n",
            "|1030848  |Raver's Nature                    |\n",
            "|6671601  |Erguner, Kudsi                    |\n",
            "|1106617  |Bloque                            |\n",
            "|1240185  |Lexy & K. Paul                    |\n",
            "|6671631  |Rev. W.M. Mosley                  |\n",
            "|6671632  |Labelle, Patti                    |\n",
            "+---------+----------------------------------+\n",
            "only showing top 10 rows\n",
            "\n",
            "root\n",
            " |-- artist_id: string (nullable = true)\n",
            " |-- artist_name: string (nullable = true)\n",
            "\n"
          ]
        }
      ],
      "source": [
        "from pyspark.sql import SparkSession\n",
        "from pyspark.sql.functions import split\n",
        "\n",
        "# Create SparkSession\n",
        "spark_artist = SparkSession.builder.appName(\"Artist Analysis\").getOrCreate()\n",
        "\n",
        "# Read the text file\n",
        "text_file_path = \"/content/artists.txt\"\n",
        "artist_file = spark_artist.read.text(text_file_path)\n",
        "\n",
        "df_artist = artist_file.withColumn(\"artist_id\", split(artist_file[\"value\"], \"\\t\").getItem(0))\n",
        "df_artist = df_artist.withColumn(\"artist_name\", split(df_artist[\"value\"], \"\\t\").getItem(1))\n",
        "\n",
        "df_artist = df_artist.drop(\"value\")\n",
        "\n",
        "df_artist.show(10, truncate=False)\n",
        "df_artist.printSchema()"
      ]
    },
    {
      "cell_type": "code",
      "execution_count": null,
      "metadata": {
        "colab": {
          "base_uri": "https://localhost:8080/"
        },
        "id": "WZkM9Rk3FJV2",
        "outputId": "d739b317-6c85-4dc6-cf80-b002f9fd70a6"
      },
      "outputs": [
        {
          "name": "stdout",
          "output_type": "stream",
          "text": [
            "Number of users: 30537\n"
          ]
        }
      ],
      "source": [
        "artists_count = df_artist.select('artist_id').distinct().count()\n",
        "print(\"Number of users:\", artists_count)"
      ]
    },
    {
      "cell_type": "markdown",
      "metadata": {
        "id": "nacmGXw4xX2e"
      },
      "source": [
        "## Read the file plays"
      ]
    },
    {
      "cell_type": "code",
      "execution_count": null,
      "metadata": {
        "colab": {
          "base_uri": "https://localhost:8080/"
        },
        "id": "3imRBrF22C-m",
        "outputId": "26a25cfe-4d2e-42c6-e11e-c49e35230c9d"
      },
      "outputs": [
        {
          "name": "stdout",
          "output_type": "stream",
          "text": [
            "+-------+---------+----------+\n",
            "|user_id|artist_id|play_count|\n",
            "+-------+---------+----------+\n",
            "|1059637|1000010  |238       |\n",
            "|1059637|1000049  |1         |\n",
            "|1059637|1000056  |1         |\n",
            "|1059637|1000062  |11        |\n",
            "|1059637|1000094  |1         |\n",
            "|1059637|1000112  |423       |\n",
            "|1059637|1000113  |5         |\n",
            "|1059637|1000114  |2         |\n",
            "|1059637|1000123  |2         |\n",
            "|1059637|1000130  |19129     |\n",
            "+-------+---------+----------+\n",
            "only showing top 10 rows\n",
            "\n",
            "root\n",
            " |-- user_id: string (nullable = true)\n",
            " |-- artist_id: string (nullable = true)\n",
            " |-- play_count: string (nullable = true)\n",
            "\n"
          ]
        }
      ],
      "source": [
        "from pyspark.sql import SparkSession\n",
        "from pyspark.sql.functions import split\n",
        "\n",
        "spark = SparkSession.builder.appName(\"Plays Analysis\").getOrCreate()\n",
        "\n",
        "# Read the text file and split the columns\n",
        "text_file_path = \"/content/plays.txt\"\n",
        "plays_file = spark.read.text(text_file_path)\n",
        "df_plays = plays_file.select(\n",
        "    split(plays_file[\"value\"], \" \").getItem(0).alias(\"user_id\"),\n",
        "    split(plays_file[\"value\"], \" \").getItem(1).alias(\"artist_id\"),\n",
        "    split(plays_file[\"value\"], \" \").getItem(2).alias(\"play_count\")\n",
        ")\n",
        "\n",
        "df_plays.show(10, truncate=False)\n",
        "df_plays.printSchema()"
      ]
    },
    {
      "cell_type": "code",
      "execution_count": null,
      "metadata": {
        "colab": {
          "base_uri": "https://localhost:8080/"
        },
        "id": "Vc2-KK-SEYBq",
        "outputId": "043bbe76-1600-470c-cc31-b3a033d82c47"
      },
      "outputs": [
        {
          "name": "stdout",
          "output_type": "stream",
          "text": [
            "Number of users: 50\n"
          ]
        }
      ],
      "source": [
        "users_count = df_plays.select('user_id').distinct().count()\n",
        "print(\"Number of users:\", users_count)"
      ]
    },
    {
      "cell_type": "code",
      "execution_count": null,
      "metadata": {
        "colab": {
          "base_uri": "https://localhost:8080/"
        },
        "id": "oCGMG7ARZb19",
        "outputId": "751f516c-5fb7-437b-d09d-8cfa2064292f"
      },
      "outputs": [
        {
          "data": {
            "text/plain": [
              "DataFrame[user_id: string, artist_id: string, play_count: int]"
            ]
          },
          "execution_count": 29,
          "metadata": {},
          "output_type": "execute_result"
        }
      ],
      "source": [
        "df_plays = df_plays.withColumn(\"play_count\", col(\"play_count\").cast(\"integer\"))\n",
        "df_plays\n"
      ]
    },
    {
      "cell_type": "markdown",
      "metadata": {
        "id": "GpVVLqEMFVO-"
      },
      "source": [
        "## The minimum and maximum number of plays per artist:"
      ]
    },
    {
      "cell_type": "code",
      "execution_count": null,
      "metadata": {
        "colab": {
          "base_uri": "https://localhost:8080/"
        },
        "id": "x4l1yCbiDcHU",
        "outputId": "5f22a17b-f672-4a9f-d775-3635d838dd2b"
      },
      "outputs": [
        {
          "name": "stdout",
          "output_type": "stream",
          "text": [
            "+-------+---------+----------+\n",
            "|user_id|artist_id|play_count|\n",
            "+-------+---------+----------+\n",
            "|1024631|  1005313|         6|\n",
            "|1055449|  1005313|        45|\n",
            "+-------+---------+----------+\n",
            "\n"
          ]
        }
      ],
      "source": [
        "df_plays.filter(df_plays.artist_id == 1005313).show()"
      ]
    },
    {
      "cell_type": "code",
      "execution_count": null,
      "metadata": {
        "colab": {
          "base_uri": "https://localhost:8080/"
        },
        "id": "bhHyZpeKXtC2",
        "outputId": "1e728156-260a-4e82-cb3d-9892785cdc42"
      },
      "outputs": [
        {
          "name": "stdout",
          "output_type": "stream",
          "text": [
            "+---------+--------------+--------------+\n",
            "|artist_id|min_play_count|max_play_count|\n",
            "+---------+--------------+--------------+\n",
            "|  1129143|             2|          1020|\n",
            "|      296|             1|           706|\n",
            "|  1000795|            10|           242|\n",
            "|  1133196|            42|            42|\n",
            "|  1310393|            21|            21|\n",
            "|  6789033|            42|            42|\n",
            "|  6853367|            21|            21|\n",
            "|      829|             1|           387|\n",
            "|  1016518|             3|           317|\n",
            "|  6806884|           145|           145|\n",
            "|  6887745|             1|             1|\n",
            "|  1062166|           350|           350|\n",
            "|     1159|             6|            88|\n",
            "|  1000280|             1|           138|\n",
            "|  1001866|             2|            57|\n",
            "|  1010108|            36|            36|\n",
            "|  1031033|             1|             1|\n",
            "|  1031057|             1|             1|\n",
            "|  1235692|             4|             4|\n",
            "|  1284412|             6|             6|\n",
            "+---------+--------------+--------------+\n",
            "only showing top 20 rows\n",
            "\n"
          ]
        }
      ],
      "source": [
        "from pyspark.sql import functions as F\n",
        "\n",
        "artist_play_counts = df_plays.groupBy(\"artist_id\").agg(F.min(\"play_count\").alias(\"min_play_count\"),F.max(\"play_count\").alias(\"max_play_count\"))\n",
        "\n",
        "artist_play_counts.show()"
      ]
    },
    {
      "cell_type": "markdown",
      "metadata": {
        "id": "MnLLff3FHqye"
      },
      "source": [
        "## Build a recommendation system using ALS algorithm"
      ]
    },
    {
      "cell_type": "code",
      "execution_count": null,
      "metadata": {
        "id": "cjZzr6tlG-38"
      },
      "outputs": [],
      "source": [
        "from pyspark.ml.evaluation import RegressionEvaluator\n",
        "from pyspark.ml.tuning import ParamGridBuilder, CrossValidator\n",
        "from pyspark.sql import SparkSession"
      ]
    },
    {
      "cell_type": "code",
      "execution_count": null,
      "metadata": {
        "colab": {
          "base_uri": "https://localhost:8080/"
        },
        "id": "mXXMG2O3OiUu",
        "outputId": "a3f21263-36d9-4b0d-fc84-f92e16aae92a"
      },
      "outputs": [
        {
          "data": {
            "text/plain": [
              "[(1059637, 1000010, 238.0), (1059637, 1000049, 1.0), (1059637, 1000056, 1.0)]"
            ]
          },
          "execution_count": 17,
          "metadata": {},
          "output_type": "execute_result"
        }
      ],
      "source": [
        "plays = spark.read.text(\"plays.txt\")\n",
        "plays_data = plays.rdd \\\n",
        "    .map(lambda row: row.value.split(\" \")) \\\n",
        "    .map(lambda tokens: (int(tokens[0]), int(tokens[1]), float(tokens[2]))) \\\n",
        "    .cache()\n",
        "\n",
        "plays_data.take(3)"
      ]
    },
    {
      "cell_type": "markdown",
      "metadata": {
        "id": "TaMv4t64PXrD"
      },
      "source": [
        "### Split Data"
      ]
    },
    {
      "cell_type": "code",
      "execution_count": null,
      "metadata": {
        "colab": {
          "base_uri": "https://localhost:8080/"
        },
        "id": "9Q3z02TnPU0w",
        "outputId": "dfe9f3e9-a64d-4b80-c2c8-d564d7aee0de"
      },
      "outputs": [
        {
          "data": {
            "text/plain": [
              "PythonRDD[68] at RDD at PythonRDD.scala:53"
            ]
          },
          "execution_count": 18,
          "metadata": {},
          "output_type": "execute_result"
        }
      ],
      "source": [
        "train, validation, test = plays_data.randomSplit([6, 2, 2], seed=99)\n",
        "# cache data\n",
        "train.cache()\n",
        "validation.cache()\n",
        "test.cache()"
      ]
    },
    {
      "cell_type": "markdown",
      "metadata": {
        "id": "6x_Uz1uFPlBJ"
      },
      "source": [
        "### ALS Model"
      ]
    },
    {
      "cell_type": "code",
      "execution_count": null,
      "metadata": {
        "id": "6K2z0wy9Piu0"
      },
      "outputs": [],
      "source": [
        "def train_ALS(train_data, validation_data, num_iters, reg_param, ranks):\n",
        "    \"\"\"\n",
        "    Grid Search Function to select the best model based on RMSE of hold-out data\n",
        "    \"\"\"\n",
        "    # initial\n",
        "    min_error = float('inf')\n",
        "    best_rank = -1\n",
        "    best_regularization = 0\n",
        "    best_model = None\n",
        "    for rank in ranks:\n",
        "        for reg in reg_param:\n",
        "            # train ALS model\n",
        "            model = ALS.train(\n",
        "                ratings=train_data,    # (user_id, artist_id, play_count) tuple\n",
        "                iterations=num_iters,\n",
        "                rank=rank, # numbers of latent factors\n",
        "                lambda_=reg,           # regularization param\n",
        "                seed=99) # random seed for initial matrix factorization model\n",
        "            # make prediction\n",
        "            valid_data = validation_data.map(lambda p: (p[0], p[1]))\n",
        "            predictions = model.predictAll(valid_data).map(lambda r: ((r[0], r[1]), r[2]))\n",
        "            # get the rating result\n",
        "            rates_preds = validation_data.map(lambda r: ((r[0], r[1]), r[2])).join(predictions)\n",
        "            # get the RMSE\n",
        "            MSE = rates_preds.map(lambda r: (r[1][0] - r[1][1])**2).mean()\n",
        "            error = math.sqrt(MSE)\n",
        "            print('{} latent factors and regularization = {}: validation RMSE is {}'.format(rank, reg, error))\n",
        "            if error < min_error:\n",
        "                min_error = error\n",
        "                best_rank = rank\n",
        "                best_regularization = reg\n",
        "                best_model = model\n",
        "    print('\\nThe best model has {} latent factors and regularization = {}'.format(best_rank, best_regularization))\n",
        "    return best_model"
      ]
    },
    {
      "cell_type": "markdown",
      "metadata": {
        "id": "7J4DHpLH4tvM"
      },
      "source": [
        "### The model tuning:"
      ]
    },
    {
      "cell_type": "code",
      "execution_count": null,
      "metadata": {
        "colab": {
          "base_uri": "https://localhost:8080/"
        },
        "id": "tNaVTHEXQ0Q2",
        "outputId": "c4d5cc0c-18a7-43c4-a8b9-dbfc22b5a7d4"
      },
      "outputs": [
        {
          "name": "stdout",
          "output_type": "stream",
          "text": [
            "8 latent factors and regularization = 0.001: validation RMSE is 5413.054226159869\n",
            "8 latent factors and regularization = 0.01: validation RMSE is 3809.6033273561034\n",
            "8 latent factors and regularization = 0.05: validation RMSE is 3025.478803095986\n",
            "8 latent factors and regularization = 0.1: validation RMSE is 2990.9200142057925\n",
            "8 latent factors and regularization = 0.2: validation RMSE is 2970.647740147571\n",
            "10 latent factors and regularization = 0.001: validation RMSE is 6793.136857781779\n",
            "10 latent factors and regularization = 0.01: validation RMSE is 3376.015442473903\n",
            "10 latent factors and regularization = 0.05: validation RMSE is 2833.57825401064\n",
            "10 latent factors and regularization = 0.1: validation RMSE is 2926.178049380604\n",
            "10 latent factors and regularization = 0.2: validation RMSE is 2964.5138309585373\n",
            "12 latent factors and regularization = 0.001: validation RMSE is 3910.4396656181857\n",
            "12 latent factors and regularization = 0.01: validation RMSE is 3286.997234573556\n",
            "12 latent factors and regularization = 0.05: validation RMSE is 2838.3829622445164\n",
            "12 latent factors and regularization = 0.1: validation RMSE is 2915.94208285119\n",
            "12 latent factors and regularization = 0.2: validation RMSE is 2937.3741803898547\n",
            "14 latent factors and regularization = 0.001: validation RMSE is 5161.904640124341\n",
            "14 latent factors and regularization = 0.01: validation RMSE is 3371.75995913116\n",
            "14 latent factors and regularization = 0.05: validation RMSE is 3018.5838970105406\n",
            "14 latent factors and regularization = 0.1: validation RMSE is 3050.8268982654026\n",
            "14 latent factors and regularization = 0.2: validation RMSE is 3081.6942664965295\n",
            "16 latent factors and regularization = 0.001: validation RMSE is 4380.09402616247\n",
            "16 latent factors and regularization = 0.01: validation RMSE is 3560.7556452069825\n",
            "16 latent factors and regularization = 0.05: validation RMSE is 2961.5332679788166\n",
            "16 latent factors and regularization = 0.1: validation RMSE is 2918.5850310486358\n",
            "16 latent factors and regularization = 0.2: validation RMSE is 3053.37641533278\n",
            "\n",
            "The best model has 10 latent factors and regularization = 0.05\n",
            "Total Runtime: 160.53 seconds\n"
          ]
        }
      ],
      "source": [
        "# hyper-param config\n",
        "num_iterations = 3\n",
        "ranks = [8, 10, 12, 14, 16]\n",
        "reg_params = [0.001, 0.01, 0.05, 0.1, 0.2]\n",
        "\n",
        "# grid search and select best model\n",
        "start_time = time.time()\n",
        "final_model = train_ALS(train, validation, num_iterations, reg_params, ranks)\n",
        "\n",
        "print ('Total Runtime: {:.2f} seconds'.format(time.time() - start_time))"
      ]
    },
    {
      "cell_type": "markdown",
      "metadata": {
        "id": "wX3lWDmRTCw0"
      },
      "source": [
        "## Number of iterations ALS required for convergence"
      ]
    },
    {
      "cell_type": "code",
      "execution_count": null,
      "metadata": {
        "id": "wcbWShXdTANR"
      },
      "outputs": [],
      "source": [
        "def plot_learning_curve(arr_iters, train_data, validation_data, reg, rank):\n",
        "    \"\"\"\n",
        "    Plot function to show learning curve of ALS\n",
        "    \"\"\"\n",
        "    errors = []\n",
        "    for num_iters in arr_iters:\n",
        "        # train ALS model\n",
        "        model = ALS.train(\n",
        "            ratings=train_data,    # (userID, productID, rating) tuple\n",
        "            iterations=num_iters,\n",
        "            rank=rank,\n",
        "            lambda_=reg,           # regularization param\n",
        "            seed=99)\n",
        "        # make prediction\n",
        "        valid_data = validation_data.map(lambda p: (p[0], p[1]))\n",
        "        predictions = model.predictAll(valid_data).map(lambda r: ((r[0], r[1]), r[2]))\n",
        "        # get the rating result\n",
        "        rates_preds = validation_data.map(lambda r: ((r[0], r[1]), r[2])).join(predictions)\n",
        "        # get the RMSE\n",
        "        MSE = rates_preds.map(lambda r: (r[1][0] - r[1][1])**2).mean()\n",
        "        error = math.sqrt(MSE)\n",
        "        # add to errors\n",
        "        errors.append(error)\n",
        "\n",
        "    # plot\n",
        "    plt.figure(figsize=(12, 6))\n",
        "    plt.plot(arr_iters, errors)\n",
        "    plt.xlabel('number of iterations')\n",
        "    plt.ylabel('RMSE')\n",
        "    plt.title('ALS Learning Curve')\n",
        "    plt.grid(True)\n",
        "    plt.show()"
      ]
    },
    {
      "cell_type": "code",
      "execution_count": null,
      "metadata": {
        "colab": {
          "base_uri": "https://localhost:8080/",
          "height": 556
        },
        "id": "YBA31D1bTKxL",
        "outputId": "462d3c25-ba89-4246-eec1-6d3b37f01970"
      },
      "outputs": [
        {
          "data": {
            "image/png": "[encoded data removed]",
            "text/plain": [
              "<Figure size 1200x600 with 1 Axes>"
            ]
          },
          "metadata": {},
          "output_type": "display_data"
        }
      ],
      "source": [
        "# create an array of num_iters\n",
        "iter_array = list(range(1, 10))\n",
        "# create learning curve plot\n",
        "plot_learning_curve(iter_array, train, validation, 0.05, 10)"
      ]
    },
    {
      "cell_type": "markdown",
      "metadata": {
        "id": "jknHtXlc5XZf"
      },
      "source": [
        "From this graph we see that 2 iterations are required for convergence"
      ]
    },
    {
      "cell_type": "markdown",
      "metadata": {
        "id": "SRBfRRIjZYyl"
      },
      "source": [
        "## Predicting favorite artists"
      ]
    },
    {
      "cell_type": "code",
      "execution_count": null,
      "metadata": {
        "id": "lSQNIARJXXt-"
      },
      "outputs": [],
      "source": [
        "from pyspark.sql.functions import col\n",
        "from pyspark.sql import functions as F\n",
        "\n",
        "def artist_id_from_artist_name(artist_name):\n",
        "    artist_id = df_artist.select(\"artist_id\").where(col(\"artist_name\") == artist_name[0]).first()\n",
        "    if artist_id:\n",
        "        return artist_id\n",
        "    else:\n",
        "        return None\n",
        "\n",
        "def artist_name_from_artist_id(artist_id):\n",
        "    artist_name = df_artist.select(\"artist_name\").where(col(\"artist_id\") == artist_id).first()\n",
        "    if artist_name:\n",
        "        return artist_name[0]\n",
        "    else:\n",
        "        return None\n",
        "\n",
        "def get_artistID(df_plays, fav_artist_list):\n",
        "    artistID_list = []\n",
        "    for artist in fav_artist_list:\n",
        "        artistIDs = df_plays \\\n",
        "            .filter(df_artist.artist_name.like('%{}%'.format(artist))) \\\n",
        "            .select('artist_id') \\\n",
        "            .rdd \\\n",
        "            .map(lambda r: r[0]) \\\n",
        "            .collect()\n",
        "        artistID_list.extend(artistIDs)\n",
        "    return list(set(artistID_list))\n",
        "\n",
        "\n",
        "def add_new_user_to_data(train_data, artistId_list, spark_context):\n",
        "    # get new user id\n",
        "    new_id = train_data.map(lambda r: r[0]).max() + 1\n",
        "    # get max rating\n",
        "    max_rating = train_data.map(lambda r: r[2]).max()\n",
        "    # create new user rdd\n",
        "    user_rows = [(new_id, artistId, max_rating) for artistId in artistId_list]\n",
        "    new_rdd = spark_context.parallelize(user_rows)\n",
        "    # return new train data\n",
        "    return train_data.union(new_rdd)\n",
        "\n",
        "\n",
        "def get_inference_data(train_data, df_plays, artistId_list):\n",
        "    # get new user id\n",
        "    new_id = train_data.map(lambda r: r[0]).max() + 1\n",
        "    # return inference rdd\n",
        "    return df_plays.rdd \\\n",
        "        .map(lambda r: r[0]) \\\n",
        "        .distinct() \\\n",
        "        .filter(lambda x: x not in artistId_list) \\\n",
        "        .map(lambda x: (new_id, x))\n",
        "\n",
        "\n",
        "def make_recommendation(best_model_params, ratings_data, df_movies,\n",
        "                        fav_movie_list, n_recommendations, spark_context):\n",
        "    # modify train data by adding new user's rows\n",
        "    movieId_list = get_artistID(df_movies, fav_movie_list)\n",
        "    train_data = add_new_user_to_data(ratings_data, movieId_list, spark_context)\n",
        "\n",
        "    # train best ALS\n",
        "    model = ALS.train(\n",
        "        ratings=train_data,\n",
        "        iterations=best_model_params.get('iterations', None),\n",
        "        rank=best_model_params.get('rank', None),\n",
        "        lambda_=best_model_params.get('lambda_', None),\n",
        "        seed=99)\n",
        "\n",
        "    # get inference rdd\n",
        "    inference_rdd = get_inference_data(ratings_data, df_movies, movieId_list)\n",
        "\n",
        "    # inference\n",
        "    predictions = model.predictAll(inference_rdd).map(lambda r: (r[1], r[2]))\n",
        "\n",
        "    # get top n movieId\n",
        "    topn_rows = predictions.sortBy(lambda r: r[1], ascending=False).take(n_recommendations)\n",
        "    topn_ids = [r[0] for r in topn_rows]\n",
        "\n",
        "    return topn_ids\n",
        "\n"
      ]
    },
    {
      "cell_type": "code",
      "execution_count": null,
      "metadata": {
        "colab": {
          "base_uri": "https://localhost:8080/"
        },
        "id": "wU3e3CgFZWDO",
        "outputId": "6819050c-4354-477c-e834-9ac0b28ed6dc"
      },
      "outputs": [
        {
          "name": "stdout",
          "output_type": "stream",
          "text": [
            "Row(artist_id='1000010')\n",
            "Recommendations for Aerosmith:\n",
            "1: System of a Down\n",
            "2: Sage Francis\n",
            "3: Jawbreaker\n",
            "4: Alkaline Trio\n",
            "5: Current 93\n",
            "6: Pixies\n",
            "7: Alanis Morissette\n",
            "8: The Bouncing Souls\n",
            "9: Frédéric Chopin\n",
            "10: Rage Against the Machine\n"
          ]
        }
      ],
      "source": [
        "# my favorite artist\n",
        "my_favorite_artist = ['Aerosmith']\n",
        "my_favorite_artistID = artist_id_from_artist_name(my_favorite_artist)\n",
        "print(my_favorite_artistID)\n",
        "# get recommends\n",
        "recommends = make_recommendation(\n",
        "    best_model_params={'iterations': 5, 'rank': 10, 'lambda_': 0.05},\n",
        "    ratings_data=plays_data,\n",
        "    df_movies=df_artist,\n",
        "    fav_movie_list=my_favorite_artist,\n",
        "    n_recommendations=10,\n",
        "    spark_context=spark_artist.sparkContext)\n",
        "print('Recommendations for {}:'.format(my_favorite_artist[0]))\n",
        "for i, artist in enumerate(recommends):\n",
        "    print('{0}: {1}'.format(i+1, artist_name_from_artist_id(artist)))"
      ]
    }
  ],
  "metadata": {
    "colab": {
      "collapsed_sections": [
        "ssuL93zJxR-q",
        "nacmGXw4xX2e",
        "GpVVLqEMFVO-",
        "MnLLff3FHqye",
        "wX3lWDmRTCw0",
        "SRBfRRIjZYyl"
      ],
      "provenance": []
    },
    "kernelspec": {
      "display_name": "Python 3",
      "name": "python3"
    },
    "language_info": {
      "name": "python"
    }
  },
  "nbformat": 4,
  "nbformat_minor": 0
}
